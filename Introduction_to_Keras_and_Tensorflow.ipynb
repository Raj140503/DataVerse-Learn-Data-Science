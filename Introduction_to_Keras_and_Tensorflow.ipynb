{
  "nbformat": 4,
  "nbformat_minor": 0,
  "metadata": {
    "colab": {
      "provenance": []
    },
    "kernelspec": {
      "name": "python3",
      "display_name": "Python 3"
    },
    "language_info": {
      "name": "python"
    }
  },
  "cells": [
    {
      "cell_type": "markdown",
      "source": [
        "### Keras\n",
        "\n",
        "Keras is a powerful and easy-to-use deep learning library for Theane and Tensorflow that Provides a high-level neural networks API to develop and evaluate deep learning.\n",
        "\n",
        "\n",
        "* A python package (Python 2.7-3.6)\n",
        "* Sits on top of TensorFlow or Theano (Stopped)\n",
        "* High-level neural network API\n",
        "* Runs seamlessly on CPU and GPU\n",
        "* Less coding lines required to build/run a model\n",
        "\n",
        "![image.png](data:image/png;base64,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)\n",
        "\n",
        "**Two main types of models available -**\n",
        "* The Sequential model (easy to learn, high-level API)\n",
        "    * A linear stack of layers\n",
        "    * Need to specify what input shape it should expect (input dimension)\n",
        "\n",
        "\n",
        "\n",
        "\n",
        "**A Basic Example -**"
      ],
      "metadata": {
        "id": "8Us2_grkE7wN"
      }
    },
    {
      "cell_type": "code",
      "execution_count": 2,
      "metadata": {
        "colab": {
          "base_uri": "https://localhost:8080/"
        },
        "id": "H6HgrTRkBWbg",
        "outputId": "81ebda43-90ab-487a-a9a0-cc5a9700c2b4"
      },
      "outputs": [
        {
          "output_type": "stream",
          "name": "stdout",
          "text": [
            "Epoch 1/10\n",
            "32/32 [==============================] - 1s 4ms/step - loss: 0.7152 - accuracy: 0.4850\n",
            "Epoch 2/10\n",
            "32/32 [==============================] - 0s 5ms/step - loss: 0.7070 - accuracy: 0.5040\n",
            "Epoch 3/10\n",
            "32/32 [==============================] - 0s 4ms/step - loss: 0.6958 - accuracy: 0.5250\n",
            "Epoch 4/10\n",
            "32/32 [==============================] - 0s 4ms/step - loss: 0.6944 - accuracy: 0.5230\n",
            "Epoch 5/10\n",
            "32/32 [==============================] - 0s 4ms/step - loss: 0.6900 - accuracy: 0.5340\n",
            "Epoch 6/10\n",
            "32/32 [==============================] - 0s 3ms/step - loss: 0.6885 - accuracy: 0.5550\n",
            "Epoch 7/10\n",
            "32/32 [==============================] - 0s 4ms/step - loss: 0.6777 - accuracy: 0.5660\n",
            "Epoch 8/10\n",
            "32/32 [==============================] - 0s 3ms/step - loss: 0.6785 - accuracy: 0.5830\n",
            "Epoch 9/10\n",
            "32/32 [==============================] - 0s 4ms/step - loss: 0.6745 - accuracy: 0.5730\n",
            "Epoch 10/10\n",
            "32/32 [==============================] - 0s 4ms/step - loss: 0.6693 - accuracy: 0.5940\n",
            "32/32 [==============================] - 0s 4ms/step\n"
          ]
        }
      ],
      "source": [
        "import numpy as np\n",
        "from keras.models import Sequential\n",
        "from keras.layers import Dense\n",
        "\n",
        "data = np.random.random((1000,100))\n",
        "labels = np.random.randint(2,size=(1000,1))\n",
        "model = Sequential()\n",
        "model.add(Dense(32,activation='relu',input_dim=100))\n",
        "model.add(Dense(1,activation='sigmoid'))\n",
        "model.compile(optimizer='rmsprop',loss='binary_crossentropy',metrics=['accuracy'])\n",
        "model.fit(data,labels,epochs=10,batch_size=32)\n",
        "predictions = model.predict(data)"
      ]
    },
    {
      "cell_type": "markdown",
      "source": [
        "**Keras Dataset -**"
      ],
      "metadata": {
        "id": "7IrvdWhAM3Jq"
      }
    },
    {
      "cell_type": "code",
      "source": [
        "from keras.datasets import boston_housing,mnist,cifar10,imdb\n",
        "(x_train,y_train),(x_test,y_test)=mnist.load_data()\n",
        "(x_train2,y_train2),(x_test2,y_test2)=boston_housing.load_data()\n",
        "(x_train3,y_train3),(x_test3,y_test3)=cifar10.load_data()\n",
        "(x_train4,y_train4),(x_test4,y_test4)=imdb.load_data(num_words=20000)\n",
        "num_classes=10"
      ],
      "metadata": {
        "colab": {
          "base_uri": "https://localhost:8080/"
        },
        "id": "vhh1auj8DQNy",
        "outputId": "bfa4a996-7562-41f4-fab7-8a1208f891f5"
      },
      "execution_count": 3,
      "outputs": [
        {
          "output_type": "stream",
          "name": "stdout",
          "text": [
            "Downloading data from https://storage.googleapis.com/tensorflow/tf-keras-datasets/mnist.npz\n",
            "11490434/11490434 [==============================] - 0s 0us/step\n",
            "Downloading data from https://storage.googleapis.com/tensorflow/tf-keras-datasets/boston_housing.npz\n",
            "57026/57026 [==============================] - 0s 0us/step\n",
            "Downloading data from https://www.cs.toronto.edu/~kriz/cifar-10-python.tar.gz\n",
            "170498071/170498071 [==============================] - 2s 0us/step\n",
            "Downloading data from https://storage.googleapis.com/tensorflow/tf-keras-datasets/imdb.npz\n",
            "17464789/17464789 [==============================] - 0s 0us/step\n"
          ]
        }
      ]
    },
    {
      "cell_type": "markdown",
      "source": [
        "**Sequence Padding -**"
      ],
      "metadata": {
        "id": "8irCUXXnNksw"
      }
    },
    {
      "cell_type": "code",
      "source": [
        "from keras.preprocessing import sequence\n",
        "x_train4 = sequence.pad_sequences(x_train,maxlen=80)\n",
        "x_test4=sequence.pad_sequences(x_test4,maxlen=80)\n",
        "x_train4"
      ],
      "metadata": {
        "colab": {
          "base_uri": "https://localhost:8080/"
        },
        "id": "3dEdIJyzMm8k",
        "outputId": "7f0ca9ec-20a6-4c5a-a101-d8828481f665"
      },
      "execution_count": 4,
      "outputs": [
        {
          "output_type": "execute_result",
          "data": {
            "text/plain": [
              "array([[[0, 0, 0, ..., 0, 0, 0],\n",
              "        [0, 0, 0, ..., 0, 0, 0],\n",
              "        [0, 0, 0, ..., 0, 0, 0],\n",
              "        ...,\n",
              "        [0, 0, 0, ..., 0, 0, 0],\n",
              "        [0, 0, 0, ..., 0, 0, 0],\n",
              "        [0, 0, 0, ..., 0, 0, 0]],\n",
              "\n",
              "       [[0, 0, 0, ..., 0, 0, 0],\n",
              "        [0, 0, 0, ..., 0, 0, 0],\n",
              "        [0, 0, 0, ..., 0, 0, 0],\n",
              "        ...,\n",
              "        [0, 0, 0, ..., 0, 0, 0],\n",
              "        [0, 0, 0, ..., 0, 0, 0],\n",
              "        [0, 0, 0, ..., 0, 0, 0]],\n",
              "\n",
              "       [[0, 0, 0, ..., 0, 0, 0],\n",
              "        [0, 0, 0, ..., 0, 0, 0],\n",
              "        [0, 0, 0, ..., 0, 0, 0],\n",
              "        ...,\n",
              "        [0, 0, 0, ..., 0, 0, 0],\n",
              "        [0, 0, 0, ..., 0, 0, 0],\n",
              "        [0, 0, 0, ..., 0, 0, 0]],\n",
              "\n",
              "       ...,\n",
              "\n",
              "       [[0, 0, 0, ..., 0, 0, 0],\n",
              "        [0, 0, 0, ..., 0, 0, 0],\n",
              "        [0, 0, 0, ..., 0, 0, 0],\n",
              "        ...,\n",
              "        [0, 0, 0, ..., 0, 0, 0],\n",
              "        [0, 0, 0, ..., 0, 0, 0],\n",
              "        [0, 0, 0, ..., 0, 0, 0]],\n",
              "\n",
              "       [[0, 0, 0, ..., 0, 0, 0],\n",
              "        [0, 0, 0, ..., 0, 0, 0],\n",
              "        [0, 0, 0, ..., 0, 0, 0],\n",
              "        ...,\n",
              "        [0, 0, 0, ..., 0, 0, 0],\n",
              "        [0, 0, 0, ..., 0, 0, 0],\n",
              "        [0, 0, 0, ..., 0, 0, 0]],\n",
              "\n",
              "       [[0, 0, 0, ..., 0, 0, 0],\n",
              "        [0, 0, 0, ..., 0, 0, 0],\n",
              "        [0, 0, 0, ..., 0, 0, 0],\n",
              "        ...,\n",
              "        [0, 0, 0, ..., 0, 0, 0],\n",
              "        [0, 0, 0, ..., 0, 0, 0],\n",
              "        [0, 0, 0, ..., 0, 0, 0]]], dtype=int32)"
            ]
          },
          "metadata": {},
          "execution_count": 4
        }
      ]
    },
    {
      "cell_type": "markdown",
      "source": [
        "**One Hot Coding -**"
      ],
      "metadata": {
        "id": "a31g1a17NKQG"
      }
    },
    {
      "cell_type": "code",
      "source": [
        "from keras.utils import to_categorical\n",
        "y_train=to_categorical(y_train,num_classes)\n",
        "y_test=to_categorical(y_test,num_classes)\n",
        "y_train3 = to_categorical(y_train3,num_classes)\n",
        "y_test3 = to_categorical(y_test3,num_classes)"
      ],
      "metadata": {
        "id": "NfUEnZ1yMycZ"
      },
      "execution_count": 5,
      "outputs": []
    },
    {
      "cell_type": "markdown",
      "source": [
        "**Sequencial Model -**\n",
        "\n",
        "\n",
        "* Define a sequential model\n",
        "```\n",
        "model = Sequential()\n",
        "mode.add(Dense(32, input_dim=784))\n",
        "model.add(Activation(‘relu’))\n",
        "model.add(Dense(10))\n",
        "model.add(Activation(‘softmax’))\n",
        "```\n",
        "\n",
        "* Compilation\n",
        "```\n",
        "model.compile(optimizer=‘rmsprop’, loss=‘binary_crossentropy’, metrics=[‘accuray’])\n",
        "```\n",
        "\n",
        "* Training\n",
        "```\n",
        "model = model.fit(data, one_hot_labels, epoch=10, batch_size=32)\n",
        "```\n",
        "\n",
        "* Predition\n",
        "```\n",
        "Y = model.predict(X)\n",
        "```"
      ],
      "metadata": {
        "id": "M38OUjF9Nw-t"
      }
    },
    {
      "cell_type": "markdown",
      "source": [
        "**Specifying the input shape-**\n",
        "\n",
        "* The first layer in a `sequencial` model (and only the first, because following layers can do automatic shape inference) needs to receive information about its input shape.\n",
        "\n",
        "* Pass an `input shape` arguement to the first layer. This is a shape tuple (a tuple of integers or `None` entries, where `None` indicates that any positive integer maybe expected) Batch dimension not included in `input shape.`\n",
        "*  Pass a `batch_input_shape` arguement where batch dimension is included. Useful for specifying fixed batch size"
      ],
      "metadata": {
        "id": "60sBbuFAAsMP"
      }
    },
    {
      "cell_type": "code",
      "source": [
        "from keras.models import Sequential\n",
        "from keras.layers import Dense, Activation\n",
        "model = Sequential()\n",
        "model.add(Dense(32, input_shape=(784,)))"
      ],
      "metadata": {
        "id": "x_ERy21ANHU9"
      },
      "execution_count": 21,
      "outputs": []
    },
    {
      "cell_type": "markdown",
      "source": [
        "**Binary Classification -**"
      ],
      "metadata": {
        "id": "txw_wKNlQw0X"
      }
    },
    {
      "cell_type": "code",
      "source": [
        "from keras.layers import Dense\n",
        "model.add(Dense(12, input_dim = 8,\n",
        "                kernel_initializer='uniform',\n",
        "                activation = 'relu'))\n",
        "model.add(Dense(8,kernel_initializer = 'uniform',activation = 'relu'))\n",
        "model.add(Dense(1,kernel_initializer = 'uniform',activation = 'sigmoid'))\n",
        "model.compile(loss = 'binary_crossentropy',optimizer = 'adam',metrics = ['accuracy'])"
      ],
      "metadata": {
        "id": "kRQdmLbKOYFO"
      },
      "execution_count": 7,
      "outputs": []
    },
    {
      "cell_type": "markdown",
      "source": [
        "**Multi-Class Classification -**"
      ],
      "metadata": {
        "id": "YhuhzvXtQtDp"
      }
    },
    {
      "cell_type": "code",
      "source": [
        "from keras.layers import Dropout\n",
        "model.add(Dense(512,activation = 'relu',input_shape = (784,)))\n",
        "model.add(Dropout(0.2))\n",
        "model.add(Dense(512,activation = 'relu'))\n",
        "model.add(Dropout(0.2))\n",
        "model.add(Dense(10,activation = 'softmax'))"
      ],
      "metadata": {
        "id": "hKVNUxtTQmSR"
      },
      "execution_count": 8,
      "outputs": []
    },
    {
      "cell_type": "markdown",
      "source": [
        "### Tensorflow\n",
        "\n",
        "TensorFlow is an open-source machine learning library that can be used for a variety of tasks, including training and inferring deep neural networks.\n",
        "\n",
        "* Inherit from Theano (data flow graph)\n",
        "* A python(3.5-3.7) package/C++ library\n",
        "* Running on CPU or NVIDIA CUDA GPU\n",
        "* End-2-End platform for machine/deep learning\n",
        "* Multi platform (desktop, web by TF.js, mobile by TF Lite)"
      ],
      "metadata": {
        "id": "vKrCIWyP2t5b"
      }
    },
    {
      "cell_type": "markdown",
      "source": [
        "### NVIDIA CUDA Toolkit\n",
        "\n",
        "* C/C++ library\n",
        "* A parallel computing platform for NVIDIA GPU\n",
        "* Most deep learning researchers rely on\n",
        "* GPU-accelerated computing/applications\n",
        "* CPU vs GPU: TensorFlow training CNN model on CIFAR10 images"
      ],
      "metadata": {
        "id": "zoS_S_VQ5h0-"
      }
    },
    {
      "cell_type": "code",
      "source": [],
      "metadata": {
        "id": "oyaLv2ie25TI"
      },
      "execution_count": null,
      "outputs": []
    }
  ]
}