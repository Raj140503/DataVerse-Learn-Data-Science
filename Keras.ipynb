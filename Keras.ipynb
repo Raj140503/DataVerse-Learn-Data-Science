{
  "nbformat": 4,
  "nbformat_minor": 0,
  "metadata": {
    "colab": {
      "provenance": []
    },
    "kernelspec": {
      "name": "python3",
      "display_name": "Python 3"
    },
    "language_info": {
      "name": "python"
    }
  },
  "cells": [
    {
      "cell_type": "markdown",
      "source": [
        "### Keras\n",
        "\n",
        "Keras is a powerful and easy-to-use deep learning library for Theone and Tensorflow that Provides a high-level neural networks API to develop and evaluate deep learning.\n",
        "\n",
        "**A Basic Example -**"
      ],
      "metadata": {
        "id": "8Us2_grkE7wN"
      }
    },
    {
      "cell_type": "code",
      "execution_count": null,
      "metadata": {
        "colab": {
          "base_uri": "https://localhost:8080/"
        },
        "id": "H6HgrTRkBWbg",
        "outputId": "802a1afc-bd13-41db-a48f-12cce52126d0"
      },
      "outputs": [
        {
          "output_type": "stream",
          "name": "stdout",
          "text": [
            "Epoch 1/10\n",
            "32/32 [==============================] - 1s 2ms/step - loss: 0.6995 - accuracy: 0.5210\n",
            "Epoch 2/10\n",
            "32/32 [==============================] - 0s 2ms/step - loss: 0.6921 - accuracy: 0.5320\n",
            "Epoch 3/10\n",
            "32/32 [==============================] - 0s 2ms/step - loss: 0.6890 - accuracy: 0.5230\n",
            "Epoch 4/10\n",
            "32/32 [==============================] - 0s 2ms/step - loss: 0.6851 - accuracy: 0.5450\n",
            "Epoch 5/10\n",
            "32/32 [==============================] - 0s 2ms/step - loss: 0.6829 - accuracy: 0.5670\n",
            "Epoch 6/10\n",
            "32/32 [==============================] - 0s 2ms/step - loss: 0.6789 - accuracy: 0.5560\n",
            "Epoch 7/10\n",
            "32/32 [==============================] - 0s 2ms/step - loss: 0.6763 - accuracy: 0.5720\n",
            "Epoch 8/10\n",
            "32/32 [==============================] - 0s 2ms/step - loss: 0.6734 - accuracy: 0.5740\n",
            "Epoch 9/10\n",
            "32/32 [==============================] - 0s 2ms/step - loss: 0.6709 - accuracy: 0.5750\n",
            "Epoch 10/10\n",
            "32/32 [==============================] - 0s 2ms/step - loss: 0.6682 - accuracy: 0.5860\n",
            "32/32 [==============================] - 0s 1ms/step\n"
          ]
        }
      ],
      "source": [
        "import numpy as np\n",
        "from keras.models import Sequential\n",
        "from keras.layers import Dense\n",
        "\n",
        "data = np.random.random((1000,100))\n",
        "labels = np.random.randint(2,size=(1000,1))\n",
        "model = Sequential()\n",
        "model.add(Dense(32,activation='relu',input_dim=100))\n",
        "model.add(Dense(1,activation='sigmoid'))\n",
        "model.compile(optimizer='rmsprop',loss='binary_crossentropy',metrics=['accuracy'])\n",
        "model.fit(data,labels,epochs=10,batch_size=32)\n",
        "predictions = model.predict(data)"
      ]
    },
    {
      "cell_type": "markdown",
      "source": [
        "**Keras Dataset -**"
      ],
      "metadata": {
        "id": "7IrvdWhAM3Jq"
      }
    },
    {
      "cell_type": "code",
      "source": [
        "from keras.datasets import boston_housing,mnist,cifar10,imdb\n",
        "(x_train,y_train),(x_test,y_test)=mnist.load_data()\n",
        "(x_train2,y_train2),(x_test2,y_test2)=boston_housing.load_data()\n",
        "(x_train3,y_train3),(x_test3,y_test3)=cifar10.load_data()\n",
        "(x_train4,y_train4),(x_test4,y_test4)=imdb.load_data(num_words=20000)\n",
        "num_classes=10"
      ],
      "metadata": {
        "colab": {
          "base_uri": "https://localhost:8080/"
        },
        "id": "vhh1auj8DQNy",
        "outputId": "4577783c-27c3-4c29-f000-86992789ef92"
      },
      "execution_count": null,
      "outputs": [
        {
          "output_type": "stream",
          "name": "stdout",
          "text": [
            "Downloading data from https://storage.googleapis.com/tensorflow/tf-keras-datasets/mnist.npz\n",
            "11490434/11490434 [==============================] - 0s 0us/step\n",
            "Downloading data from https://storage.googleapis.com/tensorflow/tf-keras-datasets/boston_housing.npz\n",
            "57026/57026 [==============================] - 0s 0us/step\n",
            "Downloading data from https://www.cs.toronto.edu/~kriz/cifar-10-python.tar.gz\n",
            "170498071/170498071 [==============================] - 2s 0us/step\n",
            "Downloading data from https://storage.googleapis.com/tensorflow/tf-keras-datasets/imdb.npz\n",
            "17464789/17464789 [==============================] - 0s 0us/step\n"
          ]
        }
      ]
    },
    {
      "cell_type": "markdown",
      "source": [
        "**Sequence Padding -**"
      ],
      "metadata": {
        "id": "8irCUXXnNksw"
      }
    },
    {
      "cell_type": "code",
      "source": [
        "from keras.preprocessing import sequence\n",
        "x_train4 = sequence.pad_sequences(x_train,maxlen=80)\n",
        "x_test4=sequence.pad_sequences(x_test4,maxlen=80)\n",
        "x_train4"
      ],
      "metadata": {
        "colab": {
          "base_uri": "https://localhost:8080/"
        },
        "id": "3dEdIJyzMm8k",
        "outputId": "6b70842d-d4d5-473b-f1d4-e6e158ffbfd8"
      },
      "execution_count": null,
      "outputs": [
        {
          "output_type": "execute_result",
          "data": {
            "text/plain": [
              "array([[[0, 0, 0, ..., 0, 0, 0],\n",
              "        [0, 0, 0, ..., 0, 0, 0],\n",
              "        [0, 0, 0, ..., 0, 0, 0],\n",
              "        ...,\n",
              "        [0, 0, 0, ..., 0, 0, 0],\n",
              "        [0, 0, 0, ..., 0, 0, 0],\n",
              "        [0, 0, 0, ..., 0, 0, 0]],\n",
              "\n",
              "       [[0, 0, 0, ..., 0, 0, 0],\n",
              "        [0, 0, 0, ..., 0, 0, 0],\n",
              "        [0, 0, 0, ..., 0, 0, 0],\n",
              "        ...,\n",
              "        [0, 0, 0, ..., 0, 0, 0],\n",
              "        [0, 0, 0, ..., 0, 0, 0],\n",
              "        [0, 0, 0, ..., 0, 0, 0]],\n",
              "\n",
              "       [[0, 0, 0, ..., 0, 0, 0],\n",
              "        [0, 0, 0, ..., 0, 0, 0],\n",
              "        [0, 0, 0, ..., 0, 0, 0],\n",
              "        ...,\n",
              "        [0, 0, 0, ..., 0, 0, 0],\n",
              "        [0, 0, 0, ..., 0, 0, 0],\n",
              "        [0, 0, 0, ..., 0, 0, 0]],\n",
              "\n",
              "       ...,\n",
              "\n",
              "       [[0, 0, 0, ..., 0, 0, 0],\n",
              "        [0, 0, 0, ..., 0, 0, 0],\n",
              "        [0, 0, 0, ..., 0, 0, 0],\n",
              "        ...,\n",
              "        [0, 0, 0, ..., 0, 0, 0],\n",
              "        [0, 0, 0, ..., 0, 0, 0],\n",
              "        [0, 0, 0, ..., 0, 0, 0]],\n",
              "\n",
              "       [[0, 0, 0, ..., 0, 0, 0],\n",
              "        [0, 0, 0, ..., 0, 0, 0],\n",
              "        [0, 0, 0, ..., 0, 0, 0],\n",
              "        ...,\n",
              "        [0, 0, 0, ..., 0, 0, 0],\n",
              "        [0, 0, 0, ..., 0, 0, 0],\n",
              "        [0, 0, 0, ..., 0, 0, 0]],\n",
              "\n",
              "       [[0, 0, 0, ..., 0, 0, 0],\n",
              "        [0, 0, 0, ..., 0, 0, 0],\n",
              "        [0, 0, 0, ..., 0, 0, 0],\n",
              "        ...,\n",
              "        [0, 0, 0, ..., 0, 0, 0],\n",
              "        [0, 0, 0, ..., 0, 0, 0],\n",
              "        [0, 0, 0, ..., 0, 0, 0]]], dtype=int32)"
            ]
          },
          "metadata": {},
          "execution_count": 6
        }
      ]
    },
    {
      "cell_type": "markdown",
      "source": [
        "**One Hot Coding -**"
      ],
      "metadata": {
        "id": "a31g1a17NKQG"
      }
    },
    {
      "cell_type": "code",
      "source": [
        "from keras.utils import to_categorical\n",
        "y_train=to_categorical(y_train,num_classes)\n",
        "y_test=to_categorical(y_test,num_classes)\n",
        "y_train3 = to_categorical(y_train3,num_classes)\n",
        "y_test3 = to_categorical(y_test3,num_classes)"
      ],
      "metadata": {
        "id": "NfUEnZ1yMycZ"
      },
      "execution_count": null,
      "outputs": []
    },
    {
      "cell_type": "markdown",
      "source": [
        "**Sequence Model -**"
      ],
      "metadata": {
        "id": "M38OUjF9Nw-t"
      }
    },
    {
      "cell_type": "code",
      "source": [
        "from keras.models import Sequential\n",
        "model = Sequential()\n",
        "model2 = Sequential()\n",
        "model3 = Sequential()"
      ],
      "metadata": {
        "id": "x_ERy21ANHU9"
      },
      "execution_count": null,
      "outputs": []
    },
    {
      "cell_type": "markdown",
      "source": [
        "**Binary Classification -**"
      ],
      "metadata": {
        "id": "txw_wKNlQw0X"
      }
    },
    {
      "cell_type": "code",
      "source": [
        "from keras.layers import Dense\n",
        "model.add(Dense(12, input_dim = 8,\n",
        "                kernel_initializer='uniform',\n",
        "                activation = 'relu'))\n",
        "model.add(Dense(8,kernel_initializer = 'uniform',activation = 'relu'))\n",
        "model.add(Dense(1,kernel_initializer = 'uniform',activation = 'sigmoid'))\n",
        "model.compile(loss = 'binary_crossentropy',optimizer = 'adam',metrics = ['accuracy'])"
      ],
      "metadata": {
        "id": "kRQdmLbKOYFO"
      },
      "execution_count": null,
      "outputs": []
    },
    {
      "cell_type": "markdown",
      "source": [
        "**Multi-Class Classification -**"
      ],
      "metadata": {
        "id": "YhuhzvXtQtDp"
      }
    },
    {
      "cell_type": "code",
      "source": [
        "from keras.layers import Dropout\n",
        "model.add(Dense(512,activation = 'relu',input_shape = (784,)))\n",
        "model.add(Dropout(0.2))\n",
        "model.add(Dense(512,activation = 'relu'))\n",
        "model.add(Dropout(0.2))\n",
        "model.add(Dense(10,activation = 'softmax'))"
      ],
      "metadata": {
        "id": "hKVNUxtTQmSR"
      },
      "execution_count": null,
      "outputs": []
    }
  ]
}