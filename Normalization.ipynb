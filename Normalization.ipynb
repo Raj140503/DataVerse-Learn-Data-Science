{
  "nbformat": 4,
  "nbformat_minor": 0,
  "metadata": {
    "colab": {
      "provenance": []
    },
    "kernelspec": {
      "name": "python3",
      "display_name": "Python 3"
    },
    "language_info": {
      "name": "python"
    }
  },
  "cells": [
    {
      "cell_type": "markdown",
      "source": [
        "### Normalization\n",
        "\n",
        "**L1 Normalization -**\n",
        "\n",
        "In this normalization Technique, each data divided by summation of absolute of X or Data. Thus this technique of normalization is known as least absolute deviation and Manhatten\n",
        "\n",
        "**Scenario -**\n",
        "\n",
        "Where to use L1 normalization ?\n",
        "\n",
        "* L1 normalization is used with data with many 0's or sparshly distributed data.\n",
        "\n",
        "* Text and Image Processing\n",
        "\n",
        "**Advantage -**\n",
        "\n",
        "* L1 normalization is less sensitive to outliers\n",
        "\n",
        "* It it better than L2 Normalization\n",
        "\n",
        "**Formula -**\n",
        "\n",
        "$$\n",
        "\\mathbf{X}_{L1} = \\frac{\\mathbf{x}}{\\sum |x_i|}\n",
        "$$\n",
        "\n",
        "\n",
        "**L2 Normalization -**\n",
        "\n",
        "* This method scales feature vector to the length of 1.\n",
        "\n",
        "**Formula -**\n",
        "\n",
        "$$\n",
        "\\mathbf{X}_{L2} = \\frac{\\mathbf{x}}{\\sqrt{\\sum x^2}}\n",
        "$$\n"
      ],
      "metadata": {
        "id": "kF9dtMf0am4_"
      }
    },
    {
      "cell_type": "code",
      "execution_count": null,
      "metadata": {
        "id": "rsNZG2KIaeVn"
      },
      "outputs": [],
      "source": []
    }
  ]
}