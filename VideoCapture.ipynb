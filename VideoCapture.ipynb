{
 "cells": [
  {
   "cell_type": "markdown",
   "id": "ce553b25-0734-4b6f-bf45-c10db8f82efa",
   "metadata": {},
   "source": [
    "Syntax:\\\n",
    "cam = cv2.VideoCapture(input)\\\n",
    "* input can be a camera number or a video file or an IP camera.\n",
    "\n",
    "cam.read()\n",
    "* This function returns two arguments: True or False which indicates a successful frame read, and a\n",
    "numpy array of the current frame.\n",
    "\n",
    "cv2.imshow('window_name', frame_name)\n",
    "* window_name > Name of the window in which you want to display the current frame.\n",
    "* frame_name > Frame that you want to display in the current loop.\n",
    "Checkout the following example code that reads the camera and displays the feed in a window:"
   ]
  },
  {
   "cell_type": "code",
   "execution_count": 21,
   "id": "6d4dff25-f344-4470-a821-4a326b34f637",
   "metadata": {},
   "outputs": [
    {
     "name": "stdout",
     "output_type": "stream",
     "text": [
      "Requirement already satisfied: opencv-python in c:\\users\\rajpa\\anaconda3\\lib\\site-packages (4.10.0.84)\n",
      "Requirement already satisfied: numpy>=1.21.2 in c:\\users\\rajpa\\anaconda3\\lib\\site-packages (from opencv-python) (1.26.4)\n"
     ]
    }
   ],
   "source": [
    "!pip install opencv-python"
   ]
  },
  {
   "cell_type": "code",
   "execution_count": 16,
   "id": "f30f5e7c-d572-4f83-87a5-23ec11ef0fb3",
   "metadata": {},
   "outputs": [],
   "source": [
    "\n",
    "import cv2\n",
    "\n",
    "cam = cv2.VideoCapture(0)\n",
    "while True:\n",
    " _ , frame = cam.read() \n",
    " cv2.imshow('Webcam', frame) \n",
    " \n",
    " if cv2.waitKey(1) & 0xff == ord('q'): \n",
    "    break\n",
    "cam.release() \n",
    "cv2.destroyAllWindows() "
   ]
  },
  {
   "cell_type": "markdown",
   "id": "56ea891c-6f32-4e8d-9469-5316be88ba18",
   "metadata": {},
   "source": [
    "cam.get(video_capture_property)\r\n",
    "video_capture_property > this can be any property that you want to access from the list of\r\n",
    "properties given here\\\r\n",
    "VideoCaptureProperties.\r\n",
    "- Below is an example code that prints out the width, height, and frames per second of the camera feed."
   ]
  },
  {
   "cell_type": "code",
   "execution_count": 39,
   "id": "0b616182-9f0e-4a76-8ab7-efca37d5f295",
   "metadata": {},
   "outputs": [],
   "source": [
    "\n",
    "import cv2\n",
    "\n",
    "cam = cv2.VideoCapture(0)\n",
    "\n",
    "\n",
    "width = cam.get(cv2.CAP_PROP_FRAME_WIDTH)\n",
    "height = cam.get(cv2.CAP_PROP_FRAME_HEIGHT)\n",
    "fps = cam.get(cv2.CAP_PROP_FPS)"
   ]
  },
  {
   "cell_type": "code",
   "execution_count": 40,
   "id": "2cef5689-fbab-4e0a-9321-905664c64ab3",
   "metadata": {},
   "outputs": [
    {
     "name": "stdout",
     "output_type": "stream",
     "text": [
      "resolution: 640.0 x 480.0 | frames per second: 30.0\n",
      "resolution: 640.0 x 480.0 | frames per second: 30.0\n",
      "resolution: 640.0 x 480.0 | frames per second: 30.0\n",
      "resolution: 640.0 x 480.0 | frames per second: 30.0\n",
      "resolution: 640.0 x 480.0 | frames per second: 30.0\n",
      "resolution: 640.0 x 480.0 | frames per second: 30.0\n",
      "resolution: 640.0 x 480.0 | frames per second: 30.0\n",
      "resolution: 640.0 x 480.0 | frames per second: 30.0\n",
      "resolution: 640.0 x 480.0 | frames per second: 30.0\n",
      "resolution: 640.0 x 480.0 | frames per second: 30.0\n",
      "resolution: 640.0 x 480.0 | frames per second: 30.0\n",
      "resolution: 640.0 x 480.0 | frames per second: 30.0\n",
      "resolution: 640.0 x 480.0 | frames per second: 30.0\n",
      "resolution: 640.0 x 480.0 | frames per second: 30.0\n",
      "resolution: 640.0 x 480.0 | frames per second: 30.0\n",
      "resolution: 640.0 x 480.0 | frames per second: 30.0\n",
      "resolution: 640.0 x 480.0 | frames per second: 30.0\n",
      "resolution: 640.0 x 480.0 | frames per second: 30.0\n",
      "resolution: 640.0 x 480.0 | frames per second: 30.0\n",
      "resolution: 640.0 x 480.0 | frames per second: 30.0\n",
      "resolution: 640.0 x 480.0 | frames per second: 30.0\n",
      "resolution: 640.0 x 480.0 | frames per second: 30.0\n",
      "resolution: 640.0 x 480.0 | frames per second: 30.0\n",
      "resolution: 640.0 x 480.0 | frames per second: 30.0\n",
      "resolution: 640.0 x 480.0 | frames per second: 30.0\n",
      "resolution: 640.0 x 480.0 | frames per second: 30.0\n",
      "resolution: 640.0 x 480.0 | frames per second: 30.0\n",
      "resolution: 640.0 x 480.0 | frames per second: 30.0\n",
      "resolution: 640.0 x 480.0 | frames per second: 30.0\n",
      "resolution: 640.0 x 480.0 | frames per second: 30.0\n",
      "resolution: 640.0 x 480.0 | frames per second: 30.0\n",
      "resolution: 640.0 x 480.0 | frames per second: 30.0\n",
      "resolution: 640.0 x 480.0 | frames per second: 30.0\n",
      "resolution: 640.0 x 480.0 | frames per second: 30.0\n",
      "resolution: 640.0 x 480.0 | frames per second: 30.0\n",
      "resolution: 640.0 x 480.0 | frames per second: 30.0\n",
      "resolution: 640.0 x 480.0 | frames per second: 30.0\n",
      "resolution: 640.0 x 480.0 | frames per second: 30.0\n",
      "resolution: 640.0 x 480.0 | frames per second: 30.0\n",
      "resolution: 640.0 x 480.0 | frames per second: 30.0\n",
      "resolution: 640.0 x 480.0 | frames per second: 30.0\n",
      "resolution: 640.0 x 480.0 | frames per second: 30.0\n",
      "resolution: 640.0 x 480.0 | frames per second: 30.0\n",
      "resolution: 640.0 x 480.0 | frames per second: 30.0\n",
      "resolution: 640.0 x 480.0 | frames per second: 30.0\n",
      "resolution: 640.0 x 480.0 | frames per second: 30.0\n",
      "resolution: 640.0 x 480.0 | frames per second: 30.0\n",
      "resolution: 640.0 x 480.0 | frames per second: 30.0\n",
      "resolution: 640.0 x 480.0 | frames per second: 30.0\n",
      "resolution: 640.0 x 480.0 | frames per second: 30.0\n",
      "resolution: 640.0 x 480.0 | frames per second: 30.0\n",
      "resolution: 640.0 x 480.0 | frames per second: 30.0\n",
      "resolution: 640.0 x 480.0 | frames per second: 30.0\n",
      "resolution: 640.0 x 480.0 | frames per second: 30.0\n",
      "resolution: 640.0 x 480.0 | frames per second: 30.0\n",
      "resolution: 640.0 x 480.0 | frames per second: 30.0\n",
      "resolution: 640.0 x 480.0 | frames per second: 30.0\n"
     ]
    }
   ],
   "source": [
    "while True:\n",
    " i, frame = cam.read() \n",
    " cv2.imshow('Webcam', frame)\n",
    " print('resolution:',width, 'x', height, '| frames per second:', fps)\n",
    "\n",
    " if cv2.waitKey(1) & 0xff == ord('q'): \n",
    "     break\n",
    "cam.release()\n",
    "cv2.destroyAllWindows()"
   ]
  },
  {
   "cell_type": "markdown",
   "id": "88bd9471-baa8-4f0f-8baa-cd2b8341ec25",
   "metadata": {},
   "source": []
  }
 ],
 "metadata": {
  "kernelspec": {
   "display_name": "Python 3 (ipykernel)",
   "language": "python",
   "name": "python3"
  },
  "language_info": {
   "codemirror_mode": {
    "name": "ipython",
    "version": 3
   },
   "file_extension": ".py",
   "mimetype": "text/x-python",
   "name": "python",
   "nbconvert_exporter": "python",
   "pygments_lexer": "ipython3",
   "version": "3.11.7"
  }
 },
 "nbformat": 4,
 "nbformat_minor": 5
}
